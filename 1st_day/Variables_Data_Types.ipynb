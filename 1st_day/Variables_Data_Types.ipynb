{
 "cells": [
  {
   "cell_type": "code",
   "execution_count": 1,
   "id": "2e3bd760-aee1-46cf-8167-e186cab82538",
   "metadata": {},
   "outputs": [
    {
     "name": "stdout",
     "output_type": "stream",
     "text": [
      "His name is Shivam, age is 31, height is 5.9, married: true\n"
     ]
    }
   ],
   "source": [
    "#Assign variables: age = 31, \n",
    "#height = 5.9, name = \"Shivam\", is_married = True.\n",
    "age, height, name, is_married = 31, 5.9, \"Shivam\", \"true\"\n",
    "print(f\"His name is {name}, age is {age}, height is {height}, married: {is_married}\")\n"
   ]
  },
  {
   "cell_type": "code",
   "execution_count": 2,
   "id": "1a4e29ae-f134-40ac-9793-ff79b80c8985",
   "metadata": {},
   "outputs": [
    {
     "data": {
      "text/plain": [
       "int"
      ]
     },
     "execution_count": 2,
     "metadata": {},
     "output_type": "execute_result"
    }
   ],
   "source": [
    "type(age)"
   ]
  },
  {
   "cell_type": "code",
   "execution_count": 3,
   "id": "538d9709-0b53-4386-9de9-45ba4adc22bd",
   "metadata": {},
   "outputs": [
    {
     "data": {
      "text/plain": [
       "str"
      ]
     },
     "execution_count": 3,
     "metadata": {},
     "output_type": "execute_result"
    }
   ],
   "source": [
    "type(name)"
   ]
  },
  {
   "cell_type": "code",
   "execution_count": 4,
   "id": "d06031d1-044b-4832-b1e6-21432eb4cfd8",
   "metadata": {},
   "outputs": [
    {
     "data": {
      "text/plain": [
       "str"
      ]
     },
     "execution_count": 4,
     "metadata": {},
     "output_type": "execute_result"
    }
   ],
   "source": [
    "type(is_married)"
   ]
  },
  {
   "cell_type": "code",
   "execution_count": 5,
   "id": "26f7512a-df38-4733-9ba8-aae15b366291",
   "metadata": {},
   "outputs": [
    {
     "data": {
      "text/plain": [
       "float"
      ]
     },
     "execution_count": 5,
     "metadata": {},
     "output_type": "execute_result"
    }
   ],
   "source": [
    "type(height)"
   ]
  },
  {
   "cell_type": "code",
   "execution_count": null,
   "id": "6556cd74-f8c0-4350-a543-b99859e4d2ec",
   "metadata": {},
   "outputs": [],
   "source": [
    "#Swap two numbers without using a third variable."
   ]
  },
  {
   "cell_type": "code",
   "execution_count": 7,
   "id": "e9227bc1-c161-4e94-b493-27ad841e7b9a",
   "metadata": {},
   "outputs": [
    {
     "name": "stdout",
     "output_type": "stream",
     "text": [
      "x vlaue cahnged to 9 and y changed to 3\n"
     ]
    }
   ],
   "source": [
    "x=3\n",
    "y=9\n",
    "x,y = y,x\n",
    "print(f\"x vlaue cahnged to {x} and y changed to {y}\")"
   ]
  },
  {
   "cell_type": "code",
   "execution_count": null,
   "id": "70087e8d-fe46-4860-8b7f-0c070113688b",
   "metadata": {},
   "outputs": [],
   "source": [
    "#Concatenate two strings (first_name + last_name)\n"
   ]
  },
  {
   "cell_type": "code",
   "execution_count": 9,
   "id": "accf6b70-eebc-4c78-874c-4a347d13a36b",
   "metadata": {},
   "outputs": [
    {
     "name": "stdout",
     "output_type": "stream",
     "text": [
      "31 Shivam\n"
     ]
    }
   ],
   "source": [
    "print(str(age) + ' ' + str(name))"
   ]
  },
  {
   "cell_type": "code",
   "execution_count": null,
   "id": "c4c5d35d-259a-4786-a532-ad91ec687a7e",
   "metadata": {},
   "outputs": [],
   "source": []
  },
  {
   "cell_type": "code",
   "execution_count": null,
   "id": "304e2374-d752-4b62-86c8-5bdc4bb1554d",
   "metadata": {},
   "outputs": [],
   "source": []
  },
  {
   "cell_type": "code",
   "execution_count": null,
   "id": "6909fd76-7016-42fb-a9f6-fcebcfd4fdef",
   "metadata": {},
   "outputs": [],
   "source": []
  }
 ],
 "metadata": {
  "kernelspec": {
   "display_name": "Python [conda env:base] *",
   "language": "python",
   "name": "conda-base-py"
  },
  "language_info": {
   "codemirror_mode": {
    "name": "ipython",
    "version": 3
   },
   "file_extension": ".py",
   "mimetype": "text/x-python",
   "name": "python",
   "nbconvert_exporter": "python",
   "pygments_lexer": "ipython3",
   "version": "3.13.5"
  }
 },
 "nbformat": 4,
 "nbformat_minor": 5
}
