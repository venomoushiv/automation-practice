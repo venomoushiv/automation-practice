{
 "cells": [
  {
   "cell_type": "code",
   "execution_count": 3,
   "id": "80a5ffe9-174c-4cab-9617-09be4c8f0ffe",
   "metadata": {},
   "outputs": [
    {
     "name": "stdout",
     "output_type": "stream",
     "text": [
      "Shivam\n",
      "Shivam\n",
      "Shivam\n",
      "Shivam\n",
      "Shivam\n",
      "Shivam\n",
      "Shivam\n",
      "Shivam\n",
      "Shivam\n",
      "Shivam\n",
      "\n"
     ]
    }
   ],
   "source": [
    "#Print your name 10 times using multiplication (*)\n",
    "x= \"Shivam\\n\"\n",
    "print (x*10)"
   ]
  },
  {
   "cell_type": "code",
   "execution_count": 5,
   "id": "543236e1-eb8b-439a-89fc-4a71a5743c53",
   "metadata": {},
   "outputs": [],
   "source": [
    "#Print a multi-line string (your address)."
   ]
  },
  {
   "cell_type": "code",
   "execution_count": 6,
   "id": "6a357a39-0566-4368-b8f5-d19c11e16b4d",
   "metadata": {},
   "outputs": [
    {
     "name": "stdout",
     "output_type": "stream",
     "text": [
      " 2-450/1,\n",
      " Tulsi nagar Polysheet, \n",
      " Kathgodam, Nainital \n",
      " UK 263139\n"
     ]
    }
   ],
   "source": [
    "print ( \" 2-450/1,\\n Tulsi nagar Polysheet, \\n Kathgodam, Nainital \\n UK 263139\")"
   ]
  },
  {
   "cell_type": "code",
   "execution_count": 7,
   "id": "885d56c4-f708-4b58-ba7c-65695e679488",
   "metadata": {},
   "outputs": [],
   "source": [
    "#Print the string:\n",
    "#\"I am learning Python\" → in UPPERCASE, lowercase, and title case."
   ]
  },
  {
   "cell_type": "code",
   "execution_count": 11,
   "id": "dd3345dd-e026-4f6f-89ab-9c88530c8420",
   "metadata": {},
   "outputs": [
    {
     "name": "stdout",
     "output_type": "stream",
     "text": [
      "I AM LEARNING PYTHON\n"
     ]
    }
   ],
   "source": [
    "X = \"I am Learning Python\"\n",
    "x=X.upper()\n",
    "print(x)"
   ]
  },
  {
   "cell_type": "code",
   "execution_count": 14,
   "id": "4eed94ab-b8ee-4373-b48f-a839821320d1",
   "metadata": {},
   "outputs": [
    {
     "name": "stdout",
     "output_type": "stream",
     "text": [
      "I Am Learning Python\n"
     ]
    }
   ],
   "source": [
    "X = \"I am Learning Python\"\n",
    "x=X.title()\n",
    "print(x)"
   ]
  },
  {
   "cell_type": "code",
   "execution_count": 12,
   "id": "673b11db-21e0-4c03-ac75-4f9e3d84c676",
   "metadata": {},
   "outputs": [
    {
     "name": "stdout",
     "output_type": "stream",
     "text": [
      "i am learning python\n"
     ]
    }
   ],
   "source": [
    "X = \"I am Learning Python\"\n",
    "x=X.lower()\n",
    "print(x)"
   ]
  }
 ],
 "metadata": {
  "kernelspec": {
   "display_name": "Python [conda env:base] *",
   "language": "python",
   "name": "conda-base-py"
  },
  "language_info": {
   "codemirror_mode": {
    "name": "ipython",
    "version": 3
   },
   "file_extension": ".py",
   "mimetype": "text/x-python",
   "name": "python",
   "nbconvert_exporter": "python",
   "pygments_lexer": "ipython3",
   "version": "3.13.5"
  }
 },
 "nbformat": 4,
 "nbformat_minor": 5
}
