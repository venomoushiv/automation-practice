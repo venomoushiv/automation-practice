{
 "cells": [
  {
   "cell_type": "code",
   "execution_count": null,
   "id": "9f947dd9-6628-478f-83b0-35f08ff77832",
   "metadata": {},
   "outputs": [],
   "source": [
    "x = input( \" Input any number = \")\n"
   ]
  },
  {
   "cell_type": "code",
   "execution_count": null,
   "id": "c7694608-81d4-46fd-9e6e-333affbf284a",
   "metadata": {},
   "outputs": [],
   "source": []
  },
  {
   "cell_type": "code",
   "execution_count": null,
   "id": "65ace9c7-42bb-4d36-95f5-64039253dc24",
   "metadata": {},
   "outputs": [],
   "source": []
  }
 ],
 "metadata": {
  "kernelspec": {
   "display_name": "Python [conda env:base] *",
   "language": "python",
   "name": "conda-base-py"
  },
  "language_info": {
   "codemirror_mode": {
    "name": "ipython",
    "version": 3
   },
   "file_extension": ".py",
   "mimetype": "text/x-python",
   "name": "python",
   "nbconvert_exporter": "python",
   "pygments_lexer": "ipython3",
   "version": "3.13.5"
  }
 },
 "nbformat": 4,
 "nbformat_minor": 5
}
