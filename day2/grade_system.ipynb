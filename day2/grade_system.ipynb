{
 "cells": [
  {
   "cell_type": "code",
   "execution_count": 4,
   "id": "473236a5-616d-457a-a2f9-70acb9b9fdb6",
   "metadata": {},
   "outputs": [
    {
     "name": "stdin",
     "output_type": "stream",
     "text": [
      "enter maths no   90\n",
      "enter science no   80\n"
     ]
    },
    {
     "name": "stdout",
     "output_type": "stream",
     "text": [
      " 1st grade \n"
     ]
    }
   ],
   "source": [
    "m = int ( input(\"enter maths no  \"))\n",
    "s = int ( input(\"enter science no  \"))\n",
    "\n",
    "a = (m +s)/2\n",
    "if a > 60 :\n",
    "    print (\" 1st grade \")\n",
    "else :\n",
    "    print (\" not 1st grade\")\n"
   ]
  },
  {
   "cell_type": "code",
   "execution_count": null,
   "id": "d0680189-b003-4a8b-a922-799b0e8c5b32",
   "metadata": {},
   "outputs": [],
   "source": []
  }
 ],
 "metadata": {
  "kernelspec": {
   "display_name": "Python [conda env:base] *",
   "language": "python",
   "name": "conda-base-py"
  },
  "language_info": {
   "codemirror_mode": {
    "name": "ipython",
    "version": 3
   },
   "file_extension": ".py",
   "mimetype": "text/x-python",
   "name": "python",
   "nbconvert_exporter": "python",
   "pygments_lexer": "ipython3",
   "version": "3.13.5"
  }
 },
 "nbformat": 4,
 "nbformat_minor": 5
}
