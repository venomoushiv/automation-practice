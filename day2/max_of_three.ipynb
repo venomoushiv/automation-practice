{
 "cells": [
  {
   "cell_type": "code",
   "execution_count": null,
   "id": "0645a496-91eb-49c7-8e0c-94c4f0859230",
   "metadata": {},
   "outputs": [],
   "source": [
    "print(\"enter 3 numbers\")\n",
    "a = int(input(\"1st\")\n",
    "b = int(input(\"2nd\")\n",
    "c = int(input(\"3rd\")\n",
    "d = int(input(\"4th\")\n",
    "e = int(input(\"5th\")\n",
    "\n"
   ]
  },
  {
   "cell_type": "code",
   "execution_count": null,
   "id": "016aac06-08bc-4f00-9600-1f928c7aa495",
   "metadata": {},
   "outputs": [],
   "source": []
  },
  {
   "cell_type": "code",
   "execution_count": null,
   "id": "d5a0c951-7b2d-46af-b6ac-b080691bd0ea",
   "metadata": {},
   "outputs": [],
   "source": []
  },
  {
   "cell_type": "code",
   "execution_count": null,
   "id": "237d841b-376e-477a-9440-c19cb1adaa74",
   "metadata": {},
   "outputs": [],
   "source": []
  },
  {
   "cell_type": "code",
   "execution_count": null,
   "id": "61ba4e99-55b4-4f33-9b44-2473e9ebb68d",
   "metadata": {},
   "outputs": [],
   "source": []
  },
  {
   "cell_type": "code",
   "execution_count": null,
   "id": "15a0eb07-4869-4627-96c2-5f81675755be",
   "metadata": {},
   "outputs": [],
   "source": []
  },
  {
   "cell_type": "code",
   "execution_count": null,
   "id": "b53552bb-7cd4-435f-b3d8-82786c239033",
   "metadata": {},
   "outputs": [],
   "source": []
  },
  {
   "cell_type": "code",
   "execution_count": null,
   "id": "fceb993d-65a6-4327-a862-b3748c4ad243",
   "metadata": {},
   "outputs": [],
   "source": []
  },
  {
   "cell_type": "code",
   "execution_count": null,
   "id": "120899d5-d9a3-480f-9a22-e610f210f813",
   "metadata": {},
   "outputs": [],
   "source": []
  },
  {
   "cell_type": "code",
   "execution_count": null,
   "id": "a3b1a01b-bc51-4ecb-a759-1a3b958e27db",
   "metadata": {},
   "outputs": [],
   "source": []
  }
 ],
 "metadata": {
  "kernelspec": {
   "display_name": "Python [conda env:base] *",
   "language": "python",
   "name": "conda-base-py"
  },
  "language_info": {
   "codemirror_mode": {
    "name": "ipython",
    "version": 3
   },
   "file_extension": ".py",
   "mimetype": "text/x-python",
   "name": "python",
   "nbconvert_exporter": "python",
   "pygments_lexer": "ipython3",
   "version": "3.13.5"
  }
 },
 "nbformat": 4,
 "nbformat_minor": 5
}
