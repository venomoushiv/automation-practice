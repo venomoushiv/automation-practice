{
 "cells": [
  {
   "cell_type": "code",
   "execution_count": null,
   "id": "e6a37248-3a2c-4eff-8fbb-2aeea3551c96",
   "metadata": {},
   "outputs": [],
   "source": [
    "#Program to check if a number is positive, negative, or zero."
   ]
  },
  {
   "cell_type": "code",
   "execution_count": 11,
   "id": "62f9d39b-c5fb-4316-b8c9-f2fb7b554f73",
   "metadata": {},
   "outputs": [
    {
     "name": "stdin",
     "output_type": "stream",
     "text": [
      "Kindly enter you number - -3\n"
     ]
    },
    {
     "name": "stdout",
     "output_type": "stream",
     "text": [
      "Entered number is negative\n"
     ]
    }
   ],
   "source": [
    "x= input(\"Kindly enter you number -\")\n",
    "if int(x) < 0 :\n",
    "    print (\"Entered number is negative\")\n",
    "elif int(x) == 0 : \n",
    "    print (\"the number is 0\")\n",
    "else :\n",
    "    print (\"the niumber is poisitve\")"
   ]
  },
  {
   "cell_type": "code",
   "execution_count": null,
   "id": "f3eddb04-8a7c-43eb-b70a-df24cfb466d7",
   "metadata": {},
   "outputs": [],
   "source": []
  },
  {
   "cell_type": "code",
   "execution_count": null,
   "id": "509ddbe3-9c77-4b62-a8c0-afdf95616f0d",
   "metadata": {},
   "outputs": [],
   "source": []
  },
  {
   "cell_type": "code",
   "execution_count": null,
   "id": "6d4f25ae-180c-4901-bc43-70e365af4044",
   "metadata": {},
   "outputs": [],
   "source": []
  },
  {
   "cell_type": "code",
   "execution_count": null,
   "id": "5e758fb0-72b9-4f3c-a607-88ae4549de46",
   "metadata": {},
   "outputs": [],
   "source": []
  },
  {
   "cell_type": "code",
   "execution_count": null,
   "id": "8aee1a07-f1e6-41be-b00f-d07475db77c7",
   "metadata": {},
   "outputs": [],
   "source": []
  }
 ],
 "metadata": {
  "kernelspec": {
   "display_name": "Python [conda env:base] *",
   "language": "python",
   "name": "conda-base-py"
  },
  "language_info": {
   "codemirror_mode": {
    "name": "ipython",
    "version": 3
   },
   "file_extension": ".py",
   "mimetype": "text/x-python",
   "name": "python",
   "nbconvert_exporter": "python",
   "pygments_lexer": "ipython3",
   "version": "3.13.5"
  }
 },
 "nbformat": 4,
 "nbformat_minor": 5
}
