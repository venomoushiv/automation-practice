{
 "cells": [
  {
   "cell_type": "code",
   "execution_count": 12,
   "id": "d4eacddb-0d0a-42ac-a472-7cbb8bd43e19",
   "metadata": {},
   "outputs": [
    {
     "name": "stdin",
     "output_type": "stream",
     "text": [
      "enter the word  papa\n"
     ]
    },
    {
     "name": "stdout",
     "output_type": "stream",
     "text": [
      "not a pallindrome\n"
     ]
    }
   ],
   "source": [
    "x = input (\"enter the word \")\n",
    "left = 0\n",
    "right = len(x)\n",
    "while left < right :\n",
    "    if (str(x[left]) == str(x[right-1])):\n",
    "        print(\"its a pallindrome\")\n",
    "    else :\n",
    "        print(\"not a pallindrome\")\n",
    "    break\n",
    "\n",
    "    \n"
   ]
  },
  {
   "cell_type": "code",
   "execution_count": null,
   "id": "74f65ce7-0531-40e5-bb84-6616bdeada3e",
   "metadata": {},
   "outputs": [],
   "source": []
  }
 ],
 "metadata": {
  "kernelspec": {
   "display_name": "Python [conda env:base] *",
   "language": "python",
   "name": "conda-base-py"
  },
  "language_info": {
   "codemirror_mode": {
    "name": "ipython",
    "version": 3
   },
   "file_extension": ".py",
   "mimetype": "text/x-python",
   "name": "python",
   "nbconvert_exporter": "python",
   "pygments_lexer": "ipython3",
   "version": "3.13.5"
  }
 },
 "nbformat": 4,
 "nbformat_minor": 5
}
